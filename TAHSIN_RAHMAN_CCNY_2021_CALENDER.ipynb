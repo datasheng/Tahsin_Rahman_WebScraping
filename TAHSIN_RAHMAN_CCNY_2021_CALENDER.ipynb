{
 "cells": [
  {
   "cell_type": "code",
   "execution_count": null,
   "id": "7327257b-bc6f-4917-a89a-8285ef36254e",
   "metadata": {},
   "outputs": [],
   "source": [
    "import requests\n",
    "from bs4 import BeautifulSoup\n",
    "import pandas as pd\n",
    "\n",
    "url =\"https://www.ccny.cuny.edu/registrar/fall\"\n",
    "response = requests.get(url)\n",
    "\n",
    "\n",
    "\n",
    "soup = BeautifulSoup(webpage_content, 'html.parser')\n",
    "table = soup.find('table')  # Adjust based on actual HTML structure\n",
    "rows = table.find_all('tr')\n",
    "\n",
    "data = []\n",
    "for row in rows:\n",
    "    cols = row.find_all('td')\n",
    "    cols = [col.text.strip() for col in cols]\n",
    "    data.append(cols)\n",
    "\n",
    "df = pd.DataFrame(data, columns=['Date', 'Day of Week', 'Event'])\n",
    "\n",
    "# Add the year to the date if missing\n",
    "df['Date'] = df['Date'] + ' 2021'\n",
    "\n",
    "# Convert to datetime, coercing errors to NaT\n",
    "df['Date'] = pd.to_datetime(df['Date'], format='%B %d %Y', errors='coerce')\n",
    "\n",
    "# Drop rows with invalid dates (NaT)\n",
    "df = df.dropna(subset=['Date'])\n",
    "\n",
    "# Set the Date column as the index\n",
    "df.set_index('Date', inplace=True)\n",
    "\n",
    "# Rename columns\n",
    "df.rename(columns={'Day of Week': 'dow', 'Event': 'text'}, inplace=True)\n",
    "\n",
    "# Clean the 'text' column\n",
    "df['text'] = (\n",
    "    df['text']\n",
    "    .str.replace('\\n', ' ')  # Replace newlines with a space\n",
    "    .str.replace('\\t', ' ')  # Replace tabs with a space\n",
    "    .str.strip()  # Remove leading/trailing spaces\n",
    "    .str.replace(r'\\s+', ' ', regex=True)  # Replace multiple spaces with a single space\n",
    ")\n",
    "\n",
    "print(df)"
   ]
  }
 ],
 "metadata": {
  "kernelspec": {
   "display_name": "Python 3 (ipykernel)",
   "language": "python",
   "name": "python3"
  },
  "language_info": {
   "codemirror_mode": {
    "name": "ipython",
    "version": 3
   },
   "file_extension": ".py",
   "mimetype": "text/x-python",
   "name": "python",
   "nbconvert_exporter": "python",
   "pygments_lexer": "ipython3",
   "version": "3.12.7"
  }
 },
 "nbformat": 4,
 "nbformat_minor": 5
}
